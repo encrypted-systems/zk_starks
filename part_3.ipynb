{
 "cells": [
  {
   "metadata": {},
   "cell_type": "markdown",
   "source": [
    "## FRI Ограничения\n",
    "\n",
    "Алгоритм FRI (Fast Reed-Solomon Interactive Oracle Proofs of Proximity) является ключевым компонентом системы доказательства нулевого разглашения (Zero-Knowledge) в контексте STARKs (Scalable Transparent Arguments of Knowledge). Он используется для проверки того, что функция является многочленом низкой степени (или близка к нему) с использованием минимального количества вычислений и взаимодействий.\n",
    "\n",
    "FRI играет важную роль в сокращении размера доказательств и повышения их эффективности, что особенно важно для блокчейн-приложений.\n",
    "\n",
    "Подгружаем переменные для второй части:"
   ],
   "id": "929e347ebf74ab0d"
  },
  {
   "cell_type": "code",
   "id": "initial_id",
   "metadata": {
    "collapsed": true,
    "ExecuteTime": {
     "end_time": "2024-11-29T14:43:55.832496Z",
     "start_time": "2024-11-29T14:43:45.365719Z"
    }
   },
   "source": [
    "from channels.channel import Channel\n",
    "from fields.field import FieldElement\n",
    "from merkles.merkle import MerkleTree\n",
    "from polynomials.polynomial import Polynomial\n",
    "from sessions.sessions import part2\n",
    "\n",
    "cp, cp_eval, cp_merkle, channel, eval_domain = part2()\n",
    "print(\"Успешно!\")"
   ],
   "outputs": [
    {
     "name": "stderr",
     "output_type": "stream",
     "text": [
      "100%|██████████| 1023/1023 [00:04<00:00, 205.93it/s]\n"
     ]
    },
    {
     "name": "stdout",
     "output_type": "stream",
     "text": [
      "Успешно!\n"
     ]
    }
   ],
   "execution_count": 2
  },
  {
   "metadata": {},
   "cell_type": "markdown",
   "source": [
    "#### FRI упаковка\n",
    "\n",
    "Наша цель в этой части – построить слои FRI и выполнить на них фиксацию.\n",
    "Для получения каждого слоя нам необходимо:\n",
    "\n",
    "1) Сгенерировать домен для слоя (из домена предыдущего слоя).\n",
    "2) Сгенерировать полином для слоя (из полинома и домена предыдущего слоя).\n",
    "3) Оценить указанный полином на указанном домене - это следующий слой FRI.\n",
    "\n",
    "#### Domain Generation\n",
    "\n",
    "Первый домен FRI - это просто eval_domain, который вы уже сгенерировали в первой части, а именно косет группы порядка 8192. Каждый последующий домен FRI получается путем взятия первой половины предыдущего домена FRI (отбрасывая вторую половину) и возведения в квадрат каждого из его элементов.\n",
    "\n",
    "Формально - мы получили eval_domain, взяв:\n",
    "$$w,w * h, w * h^2, ... , w * h^{8191}$$\n",
    "\n",
    "Следующий слой будет выглядить примерно вот так:\n",
    "$$w^2,(w*h)^2,(w*h^2)^2, ..., (w * h^{4095})^2$$\n",
    "\n",
    "Обратите внимание, что взятие квадратов второй половины каждого элемента в eval_domain дает точно такой же результат, как и взятие квадратов первой половины. Это справедливо и для следующих слоев. Например:"
   ],
   "id": "57bb992365c77325"
  },
  {
   "metadata": {
    "ExecuteTime": {
     "end_time": "2024-11-29T14:43:57.446121Z",
     "start_time": "2024-11-29T14:43:57.443932Z"
    }
   },
   "cell_type": "code",
   "source": [
    "print(eval_domain[100] ** 2)\n",
    "half_domain_size = len(eval_domain) // 2\n",
    "print(eval_domain[half_domain_size + 100] ** 2)"
   ],
   "id": "21df48e6eed3f328",
   "outputs": [
    {
     "name": "stdout",
     "output_type": "stream",
     "text": [
      "-373161870\n",
      "-373161870\n"
     ]
    }
   ],
   "execution_count": 3
  },
  {
   "metadata": {},
   "cell_type": "markdown",
   "source": [
    "Аналогично, домен третьего слоя будет:\n",
    "$$w^2,(w*h)^4,(w*h^2)^4, ..., (w * h^{2047})^4$$\n",
    "\n",
    "Напишем функцию next_fri_domain, которая принимает в качестве аргумента предыдущий домен и выводит следующий."
   ],
   "id": "4678b4381722e1b0"
  },
  {
   "metadata": {
    "ExecuteTime": {
     "end_time": "2024-11-29T14:43:59.406689Z",
     "start_time": "2024-11-29T14:43:59.404229Z"
    }
   },
   "cell_type": "code",
   "source": [
    "def next_fri_domain(fri_domain):\n",
    "    return [x ** 2 for x in fri_domain[:len(fri_domain) // 2]]"
   ],
   "id": "673436267a17bb92",
   "outputs": [],
   "execution_count": 4
  },
  {
   "metadata": {
    "ExecuteTime": {
     "end_time": "2024-11-29T14:44:00.585011Z",
     "start_time": "2024-11-29T14:44:00.571871Z"
    }
   },
   "cell_type": "code",
   "source": [
    "# Проверка на предварительно вычисленный хэш.\n",
    "from hashlib import sha256\n",
    "next_domain = next_fri_domain(eval_domain)\n",
    "assert '5446c90d6ed23ea961513d4ae38fc6585f6614a3d392cb087e837754bfd32797' == sha256(','.join([str(i) for i in next_domain]).encode()).hexdigest()\n",
    "print('Успешно!')"
   ],
   "id": "341e7c65508f283b",
   "outputs": [
    {
     "name": "stdout",
     "output_type": "stream",
     "text": [
      "Успешно!\n"
     ]
    }
   ],
   "execution_count": 5
  },
  {
   "metadata": {},
   "cell_type": "markdown",
   "source": [
    "#### FRI упаковочный оператор\n",
    "\n",
    "Первый полином FRI - это просто полином композиции, т.е. $cp$.\n",
    "Каждый последующий полином FRI получается путем:\n",
    "\n",
    "1) Получения элемента случайного поля $\\beta$ (вызовом Channel.receive_random_field_element).\n",
    "2) Умножения нечетных коэффициентов предыдущего полинома на $\\beta$.\n",
    "3) Суммирования последовательных пар (четных-нечетных) коэффициентов.\n",
    "\n",
    "\n",
    "Формально, пусть $k$-й полином имеет степень $< m$ (где $m$ — это некоторая степень двойки):\n",
    "\n",
    "$$\n",
    "p_k(x) := \\sum_{i=0}^{m-1} c_i x^i\n",
    "$$\n",
    "\n",
    "Тогда $(k+1)$-й полином, степень которого $< \\frac{m}{2}$, определяется как:\n",
    "\n",
    "$$\n",
    "p_{k+1}(x) := \\sum_{i=0}^{m/2 - 1} \\left( c_{2i} + \\beta \\cdot c_{2i+1} \\right) x^i\n",
    "$$\n",
    "\n",
    "Где $\\beta$ — это определенный коэффициент, зависящий от рандомизации процесса.\n",
    "\n",
    "Напишим функцию next_fri_polynomial, которая принимает в качестве аргументов полином и элемент поля (тот, который мы назвали $\\beta$), и возвращает «сложенный» следующий полином.\n",
    "\n",
    "Polynomial.poly содержит список коэффициентов полинома, в котором свободный член стоит первым, а высшая степень - последней, поэтому p.poly[i] == u, если коэффициент $x^i$ это $u^*$"
   ],
   "id": "4c1d97d185030cad"
  },
  {
   "metadata": {
    "ExecuteTime": {
     "end_time": "2024-11-29T14:44:03.031760Z",
     "start_time": "2024-11-29T14:44:03.028100Z"
    }
   },
   "cell_type": "code",
   "source": [
    "def next_fri_polynomial(poly,  beta):\n",
    "    odd_coefficients = poly.poly[1::2]\n",
    "    even_coefficients = poly.poly[::2]\n",
    "    odd = beta * Polynomial(odd_coefficients)\n",
    "    even = Polynomial(even_coefficients)\n",
    "    return odd + even"
   ],
   "id": "2ce13b99dbe70209",
   "outputs": [],
   "execution_count": 6
  },
  {
   "metadata": {
    "ExecuteTime": {
     "end_time": "2024-11-29T14:44:04.133535Z",
     "start_time": "2024-11-29T14:44:04.130193Z"
    }
   },
   "cell_type": "code",
   "source": [
    "next_p = next_fri_polynomial(cp, FieldElement(987654321))\n",
    "assert '6bff4c35e1aa9693f9ceb1599b6a484d7636612be65990e726e52a32452c2154' == sha256(','.join([str(i) for i in next_p.poly]).encode()).hexdigest()\n",
    "print('Успешно!')"
   ],
   "id": "cc17a46f6f98bbfa",
   "outputs": [
    {
     "name": "stdout",
     "output_type": "stream",
     "text": [
      "Успешно!\n"
     ]
    }
   ],
   "execution_count": 7
  },
  {
   "metadata": {},
   "cell_type": "markdown",
   "source": [
    "#### Соберем все вместе, чтобы получить следующий слой FRI\n",
    "\n",
    "Напишем функцию next_fri_layer, которая принимает многочлен, домен и элемент поля (снова - $\\beta$) и возвращает следующий многочлен, следующий домен и оценку этого следующего многочлена на этом следующем домене.\n"
   ],
   "id": "bb79c6db0ed690d4"
  },
  {
   "metadata": {
    "ExecuteTime": {
     "end_time": "2024-11-29T14:44:06.493991Z",
     "start_time": "2024-11-29T14:44:06.491335Z"
    }
   },
   "cell_type": "code",
   "source": [
    "def next_fri_layer(poly, domain, beta):\n",
    "    next_poly = next_fri_polynomial(poly, beta)\n",
    "    next_domain = next_fri_domain(domain)\n",
    "    next_layer = [next_poly(x) for x in next_domain]\n",
    "    return next_poly, next_domain, next_layer"
   ],
   "id": "e4642bde5f3e0fd9",
   "outputs": [],
   "execution_count": 8
  },
  {
   "metadata": {
    "ExecuteTime": {
     "end_time": "2024-11-29T14:44:07.387669Z",
     "start_time": "2024-11-29T14:44:07.383793Z"
    }
   },
   "cell_type": "code",
   "source": [
    "test_poly = Polynomial([FieldElement(2), FieldElement(3), FieldElement(0), FieldElement(1)])\n",
    "test_domain = [FieldElement(3), FieldElement(5)]\n",
    "beta = FieldElement(7)\n",
    "next_p, next_d, next_l = next_fri_layer(test_poly, test_domain, beta)\n",
    "assert next_p.poly == [FieldElement(23), FieldElement(7)]\n",
    "assert next_d == [FieldElement(9)]\n",
    "assert next_l == [FieldElement(86)]\n",
    "print('Успешно!')"
   ],
   "id": "87a9799c50dcc236",
   "outputs": [
    {
     "name": "stdout",
     "output_type": "stream",
     "text": [
      "Успешно!\n"
     ]
    }
   ],
   "execution_count": 9
  },
  {
   "metadata": {},
   "cell_type": "markdown",
   "source": [
    "#### Генерация обязательств FRI\n",
    "\n",
    "Теперь мы разработали инструменты для написания метода FriCommit, который содержит основной цикл создания обязательств FRI.\n",
    "\n",
    "Он принимает следующие 5 аргументов:\n",
    "\n",
    "1) Полином композиции, который также является первым полиномом FRI, то есть - cp.\n",
    "2) Coset порядка 8192, который также является первым доменом FRI, то есть - eval_domain.\n",
    "3) Оценка первого над вторым, которая также является первым слоем FRI, то есть - cp_eval.\n",
    "4) Первое дерево Меркла (у нас будет по одному для каждого слоя FRI), построенное из этих оценок, то есть - cp_merkle.\n",
    "5) Объект канала, то есть channel.\n",
    "\n",
    "Соответственно, метод возвращает 4 списка:\n",
    "\n",
    "1) Полиномы FRI.\n",
    "2) Домены FRI.\n",
    "3) Слои FRI.\n",
    "4) Деревья Меркла FRI.\n",
    "\n",
    "Метод содержит цикл, в каждой итерации которого мы расширяем эти четыре списка, используя последний элемент в каждом. Итерация должна остановиться, когда последний полином FRI будет иметь степень 0, то есть когда последний полином FRI будет просто константой. Затем следует отправить по каналу эту константу (т.е. свободный член многочлена). Класс Channel поддерживает только отправку строк, поэтому перед отправкой обязательно преобразуйте все, что вы хотите отправить по каналу, в строку."
   ],
   "id": "ca2028e5491a7c75"
  },
  {
   "metadata": {
    "ExecuteTime": {
     "end_time": "2024-11-29T14:44:09.401751Z",
     "start_time": "2024-11-29T14:44:09.397057Z"
    }
   },
   "cell_type": "code",
   "source": [
    "def FriCommit(cp, domain, cp_eval, cp_merkle, channel):    \n",
    "    fri_polys = [cp]\n",
    "    fri_domains = [domain]\n",
    "    fri_layers = [cp_eval]\n",
    "    fri_merkles = [cp_merkle]\n",
    "    while fri_polys[-1].degree() > 0:\n",
    "        beta = channel.receive_random_field_element()\n",
    "        next_poly, next_domain, next_layer = next_fri_layer(fri_polys[-1], fri_domains[-1], beta)\n",
    "        fri_polys.append(next_poly)\n",
    "        fri_domains.append(next_domain)\n",
    "        fri_layers.append(next_layer)\n",
    "        fri_merkles.append(MerkleTree(next_layer))\n",
    "        channel.send(fri_merkles[-1].root)   \n",
    "    channel.send(str(fri_polys[-1].poly[0]))\n",
    "    return fri_polys, fri_domains, fri_layers, fri_merkles"
   ],
   "id": "47670036be390b23",
   "outputs": [],
   "execution_count": 10
  },
  {
   "metadata": {
    "ExecuteTime": {
     "end_time": "2024-11-29T14:44:11.892022Z",
     "start_time": "2024-11-29T14:44:11.437681Z"
    }
   },
   "cell_type": "code",
   "source": [
    "test_channel = Channel()\n",
    "fri_polys, fri_domains, fri_layers, fri_merkles = FriCommit(cp, eval_domain, cp_eval, cp_merkle, test_channel)\n",
    "assert len(fri_layers) == 11, f'Ожидаемое количество слоев FRI равно 11, тогда как на самом деле оно равно {len(fri_layers)}.'\n",
    "assert len(fri_layers[-1]) == 8, f'Ожидается, что последний слой содержит ровно 8 элементов, он содержит {len(fri_layers[-1])}.'\n",
    "assert all([x == FieldElement(-1138734538) for x in fri_layers[-1]]), f'Ожидается, что последний слой будет постоянным.'\n",
    "assert fri_polys[-1].degree() == 0, 'Расшифровка последнего многочлена как постоянного (степень 0).'\n",
    "assert fri_merkles[-1].root == '1c033312a4df82248bda518b319479c22ea87bd6e15a150db400eeff653ee2ee', 'Корень Merkle последнего слоя неверен.'\n",
    "assert test_channel.state == '61452c72d8f4279b86fa49e9fb0fdef0246b396a4230a2bfb24e2d5d6bf79c2e', 'Состояние канала не соответствует ожиданиям.'\n",
    "print('Успешно!')"
   ],
   "id": "d101979eb4afb3aa",
   "outputs": [
    {
     "name": "stdout",
     "output_type": "stream",
     "text": [
      "Успешно!\n"
     ]
    }
   ],
   "execution_count": 11
  },
  {
   "metadata": {},
   "cell_type": "markdown",
   "source": "Вывод доказательства:",
   "id": "eeb16d3bbd2c0a12"
  },
  {
   "metadata": {
    "ExecuteTime": {
     "end_time": "2024-11-29T14:44:16.644697Z",
     "start_time": "2024-11-29T14:44:16.201092Z"
    }
   },
   "cell_type": "code",
   "source": [
    "fri_polys, fri_domains, fri_layers, fri_merkles = FriCommit(cp, eval_domain, cp_eval, cp_merkle, channel)\n",
    "print(channel.proof) "
   ],
   "id": "fc5d4cdb7b2f72ad",
   "outputs": [
    {
     "name": "stdout",
     "output_type": "stream",
     "text": [
      "['send:6c266a104eeaceae93c14ad799ce595ec8c2764359d7ad1b4b7c57a4da52be04', 'receive_random_field_element:2948900820', 'receive_random_field_element:1859037345', 'receive_random_field_element:2654806830', 'send:61f7d8283e244d391a483c420776e351fcfdbce525a698461a8307a1345b5652', 'receive_random_field_element:394024765', 'send:9431516ee735a498c4aec3da30112e417b03e55e5be939ff44ca8a0a62475b15', 'receive_random_field_element:1705983878', 'send:584b4b88a7f296efa0309d8e6faef13573b1ee5dfcb02ed8be5d853172f3fc69', 'receive_random_field_element:665918954', 'send:2debb983bb6473a5d4e9046944fb7ef66ef814c64f58ca5d8ebc2a15ed61ca4a', 'receive_random_field_element:3182659911', 'send:5da75aa9d9a9a564d7f19e431cbbb91eff030c353f3825dc5352674d1b7813f9', 'receive_random_field_element:2692084106', 'send:8ca6b618f3d758e7a99c4988e3a30e5c443f6f4ed79c64b698b031cca67ee4c2', 'receive_random_field_element:2453626065', 'send:db00ee380f0b1a9c2aa37efe2eabca468a83370046cf824eea9409e536256996', 'receive_random_field_element:1002265597', 'send:a6d9f31455568dbaa05c3c4dd8d4aad4ac217013a4b9f0c685457ce5394cea6c', 'receive_random_field_element:1722272171', 'send:709c8ae9501aa83f098698dfd20c5bb541286ffbaebafde9b296b22c9d67f36e', 'receive_random_field_element:13281110', 'send:69364a77950e2b5c02e6c8093957b42ad922bf894fc16461ecd9936b83ef4332', 'receive_random_field_element:1881985476', 'send:b0eab5d7c37841c712b85462b56c8da8d0042f38907d92079a810b2565714d3e', 'send:-203564369']\n"
     ]
    }
   ],
   "execution_count": 12
  }
 ],
 "metadata": {
  "kernelspec": {
   "display_name": "Python 3",
   "language": "python",
   "name": "python3"
  },
  "language_info": {
   "codemirror_mode": {
    "name": "ipython",
    "version": 2
   },
   "file_extension": ".py",
   "mimetype": "text/x-python",
   "name": "python",
   "nbconvert_exporter": "python",
   "pygments_lexer": "ipython2",
   "version": "2.7.6"
  }
 },
 "nbformat": 4,
 "nbformat_minor": 5
}

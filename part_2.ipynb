{
 "cells": [
  {
   "metadata": {},
   "cell_type": "markdown",
   "source": [
    "### Ограничения\n",
    "\n",
    "На этом этапе мы разработаем набор условий для трассы $a$.\n",
    "\n",
    "Эти условия задаются в виде выражений, которые принимают вид полиномов (а не рациональных функций) только в том случае, если трасса представляет собой корректное вычисление последовательности FibonacciSq.\n",
    "\n",
    "Процесс будет состоять из трёх шагов:\n",
    "\n",
    "Сформулируем интересующие нас условия, называемые ограничениями FibonacciSq.\n",
    "Преобразуем ограничения FibonacciSq в полиномиальные условия.\n",
    "Преобразуем их в рациональные функции, которые остаются полиномами только при выполнении исходных условий.\n",
    "\n",
    "#### Шаг 1 - Ограничения FibonacciSq\n",
    "\n",
    "Чтобы $a$ была корректной трассой последовательности FibonacciSq, доказывающей наше утверждение:\n",
    "\n",
    "1. Первый элемент должен быть равен $1$, то есть $a[0] = 1$.\n",
    "2. Последний элемент должен быть равен $2338775057$, то есть $a[1022] = 2338775057$.\n",
    "3. Должно выполняться правило FibonacciSq, а именно — для каждого $i < 1021$: $a[i + 2] = a[i + 1]^2 + a[i]^2.$\n",
    "\n",
    "#### Шаг 2 - Полиномиальные ограничения\n",
    "Напомним, что $f$ — это полином над доменом трассы, который точно вычисляется как $a$ на множестве $G \\setminus \\{ g^{1023} \\}$, где $ G = \\{ g^i : 0 \\leq i \\leq 1023 \\}$ является «малой» группой, порожденной $g$.\n",
    "\n",
    "Теперь мы преобразуем три ограничения, указанные выше, в форму полиномиальных ограничений над $f$:\n",
    "\n",
    "1. $a[0] = 1$ переводится в полином: $f(x) - 1$, который равен $0$, если $x = g^0$ (обратите внимание, что $g^0 = 1$).\n",
    "\n",
    "2. $a[1022] = 2338775057$ переводится в полином: $f(x) - 2338775057$, который равен $0$, если $x = g^{1022}$.\n",
    "\n",
    "3.  $a[i + 2] = a[i + 1]^2 + a[i]^2$ для всех $i < 1021$ переводится в полином: $f(g^2 \\cdot x) - \\big( f(g \\cdot x) \\big)^2 - \\big( f(x) \\big)^2$, который равен $0$ для $x \\in G \\setminus \\{ g^{1021}, g^{1022}, g^{1023} \\}$.\n",
    "\n",
    "Этот набор ограничений гарантирует, что трасса $a$ удовлетворяет всем необходимым условиям при её представлении в виде полинома $f$.\n",
    "\n",
    "Во-первых, поскольку это отдельный блокнот от части 1, давайте запустим следующий фрагмент кода, чтобы все переменные здесь имели правильные значения. Обратите внимание, что это может занять до 30 секунд, так как выполняется повторная полиномиальная интерполяция.\n"
   ],
   "id": "d2d570934876661c"
  },
  {
   "metadata": {
    "ExecuteTime": {
     "end_time": "2024-11-28T15:02:48.266932Z",
     "start_time": "2024-11-28T15:02:41.382109Z"
    }
   },
   "cell_type": "code",
   "source": [
    "from channels.channel import Channel\n",
    "from merkles.merkle import MerkleTree\n",
    "from polynomials.polynomial import X, prod\n",
    "from sessions.sessions import part1\n",
    "\n",
    "a, g, G, h, H, eval_domain, f, f_eval, f_merkle, channel = part1()\n",
    "print('Успешно!')"
   ],
   "id": "6d2575c60e47ceae",
   "outputs": [
    {
     "name": "stderr",
     "output_type": "stream",
     "text": [
      "100%|██████████| 1023/1023 [00:04<00:00, 214.35it/s]\n"
     ]
    },
    {
     "name": "stdout",
     "output_type": "stream",
     "text": [
      "Успешно!\n"
     ]
    }
   ],
   "execution_count": 1
  },
  {
   "metadata": {},
   "cell_type": "markdown",
   "source": [
    "#### Шаг 3 - Рациональные функции (которые на самом деле являются полиномами)\n",
    "\n",
    "Каждое из приведённых ограничений представлено многочленом $u(x)$, который, предположительно, принимает значение 0 на некоторых элементах группы $G$. То есть для некоторых $x_0, \\dots, x_k \\in G$ утверждается, что: $u(x_0) = \\dots = u(x_k) = 0$\n",
    "\n",
    "(обратите внимание, что для первых двух ограничений $k = 0$, так как они относятся только к одной точке, а для третьего $k = 1021$).\n",
    "\n",
    "Это эквивалентно утверждению, что $u(x)$, как многочлен, делится на все ${(x - x_i)}_{i=0}^k$, или, эквивалентно, на: $$\\prod_{i=0}^k (x - x_i)$$\n",
    "\n",
    "Таким образом, каждое из трёх ограничений можно записать в виде рациональной функции следующего вида: $$\\frac{u(x)}{\\prod_{i=0}^k (x - x_i)}$$\n",
    "\n",
    "для соответствующего $u(x)$ и ${x_i}_{i=0}^k$. На этом этапе мы построим эти три рациональные функции и покажем, что они действительно являются многочленами.\n",
    "\n"
   ],
   "id": "b516a41b42415508"
  },
  {
   "metadata": {},
   "cell_type": "markdown",
   "source": [
    "#### Первое ограничение\n",
    "В первом ограничении, $f(x) – 1$ и ${\\{x_i}\\} = {\\{1}\\}$.\n",
    "Теперь мы построим многочлен $p_0(x) = \\frac{f(x) - 1}{x - 1}$, удостоверившись, что $f(x) - 1$ действительно делится на $(x-1)$."
   ],
   "id": "d3203305b4c7606f"
  },
  {
   "metadata": {
    "ExecuteTime": {
     "end_time": "2024-11-28T15:03:02.819643Z",
     "start_time": "2024-11-28T15:03:02.815858Z"
    }
   },
   "cell_type": "code",
   "source": [
    "numer0 = f - 1\n",
    "denom0 = X - 1"
   ],
   "id": "a5a433478a62c883",
   "outputs": [],
   "execution_count": 2
  },
  {
   "metadata": {},
   "cell_type": "markdown",
   "source": "Убедите себя, что $f(x)$ исчезает при $x = 1$ убедившись, что вычисление этого многочлена при $1$ дает $0$ ",
   "id": "5bce5a7568860dd7"
  },
  {
   "metadata": {
    "ExecuteTime": {
     "end_time": "2024-11-28T15:03:06.395414Z",
     "start_time": "2024-11-28T15:03:06.392313Z"
    }
   },
   "cell_type": "code",
   "source": "assert numer0(1) == 0, \"Числитель numer0 не обращается в ноль при x=1\"",
   "id": "db87e1831b5b786d",
   "outputs": [],
   "execution_count": 3
  },
  {
   "metadata": {},
   "cell_type": "markdown",
   "source": "Тот факт, что $f(x) - 1$ имеет корень в точке $1$ подразумевает, что оно делится на $(x - 1)$. Выполните следующую ячейку, чтобы убедить себя в том, что остаток numer0 по модулю denom0 равен $0$ и, следовательно, деление действительно дает многочлен:",
   "id": "17f1d761124aebf3"
  },
  {
   "metadata": {
    "ExecuteTime": {
     "end_time": "2024-11-28T15:03:36.180372Z",
     "start_time": "2024-11-28T15:03:36.165737Z"
    }
   },
   "cell_type": "code",
   "source": "numer0 % denom0",
   "id": "2c60132747558e1a",
   "outputs": [
    {
     "data": {
      "text/plain": [
       "<polynomials.polynomial.Polynomial at 0x106b6dd90>"
      ],
      "text/latex": "$0$"
     },
     "execution_count": 4,
     "metadata": {},
     "output_type": "execute_result"
    }
   ],
   "execution_count": 4
  },
  {
   "metadata": {
    "ExecuteTime": {
     "end_time": "2024-11-28T15:03:37.718506Z",
     "start_time": "2024-11-28T15:03:37.709577Z"
    }
   },
   "cell_type": "code",
   "source": "assert numer0 % denom0 == 0, \"numer0 не делится на denom0\"",
   "id": "6a5d6b9cb410f528",
   "outputs": [],
   "execution_count": 5
  },
  {
   "metadata": {
    "ExecuteTime": {
     "end_time": "2024-11-28T15:03:41.075320Z",
     "start_time": "2024-11-28T15:03:41.062294Z"
    }
   },
   "cell_type": "code",
   "source": "p0 = numer0 / denom0",
   "id": "502db9a69ec117d",
   "outputs": [],
   "execution_count": 6
  },
  {
   "metadata": {
    "ExecuteTime": {
     "end_time": "2024-11-28T15:03:42.385834Z",
     "start_time": "2024-11-28T15:03:42.383234Z"
    }
   },
   "cell_type": "code",
   "source": [
    "assert p0(2718) == 2509888982\n",
    "print('Успешно!')"
   ],
   "id": "3420381f15da2746",
   "outputs": [
    {
     "name": "stdout",
     "output_type": "stream",
     "text": [
      "Успешно!\n"
     ]
    }
   ],
   "execution_count": 7
  },
  {
   "metadata": {},
   "cell_type": "markdown",
   "source": [
    "#### Второе ограничение\n",
    "\n",
    "Постройте полином p1, представляющий второе ограничение, $p_1(x) = \\frac{f(x) - 2338775057}{x-g^{1022}}$:"
   ],
   "id": "5844cde5281a20c4"
  },
  {
   "metadata": {
    "ExecuteTime": {
     "end_time": "2024-11-28T15:04:19.210715Z",
     "start_time": "2024-11-28T15:04:19.198512Z"
    }
   },
   "cell_type": "code",
   "source": [
    "numer1 = f - 2338775057\n",
    "denom1 = X - g**1022\n",
    "p1 = numer1 / denom1"
   ],
   "id": "fb2a36c22292ead9",
   "outputs": [],
   "execution_count": 8
  },
  {
   "metadata": {
    "ExecuteTime": {
     "end_time": "2024-11-28T15:04:20.185949Z",
     "start_time": "2024-11-28T15:04:20.182817Z"
    }
   },
   "cell_type": "code",
   "source": [
    "assert p1(5772) == 232961446\n",
    "print('Успешно!')"
   ],
   "id": "be1ac6f1ce57ee81",
   "outputs": [
    {
     "name": "stdout",
     "output_type": "stream",
     "text": [
      "Успешно!\n"
     ]
    }
   ],
   "execution_count": 9
  },
  {
   "metadata": {},
   "cell_type": "markdown",
   "source": [
    "#### Третье ограничение - Компактность\n",
    "\n",
    "Рациональная функция последнего ограничения немного сложнее:\n",
    "\n",
    "$$\n",
    "p_2(x) = \\frac{f(g^2 \\cdot x) - (f(g \\cdot x))^2 - (f(x))^2}{\\prod_{i=0}^{1020} (x - g^i)}\n",
    "$$\n",
    "\n",
    "Знаменатель этой дроби можно переписать так, чтобы всё выражение стало проще для вычисления:\n",
    "\n",
    "$$\n",
    "\\frac{f(g^2 \\cdot x) - (f(g \\cdot x))^2 - (f(x))^2}{(x - g^{1021})(x - g^{1022})(x - g^{1023})}\n",
    "$$\n",
    "\n",
    "Это следует из равенства:\n",
    "\n",
    "$$\n",
    "\\prod_{i=0}^{1023} (x - g^i) = x^{1024} - 1\n",
    "$$\n",
    "\n",
    "Убедитесь в этом равенстве, используя функцию `prod`, которая принимает список и вычисляет его произведение:\n",
    "\n"
   ],
   "id": "88fbe7f70bc8b417"
  },
  {
   "metadata": {
    "ExecuteTime": {
     "end_time": "2024-11-28T15:04:25.264652Z",
     "start_time": "2024-11-28T15:04:25.187704Z"
    }
   },
   "cell_type": "code",
   "source": [
    "lst = [(X - g**i) for i in range(1024)]\n",
    "prod(lst)"
   ],
   "id": "bd409f8cc099ef1e",
   "outputs": [
    {
     "data": {
      "text/plain": [
       "<polynomials.polynomial.Polynomial at 0x10951cd10>"
      ],
      "text/latex": "$ -1 + x^{1024} $"
     },
     "execution_count": 10,
     "metadata": {},
     "output_type": "execute_result"
    }
   ],
   "execution_count": 10
  },
  {
   "metadata": {
    "ExecuteTime": {
     "end_time": "2024-11-28T15:04:27.055831Z",
     "start_time": "2024-11-28T15:04:26.978758Z"
    }
   },
   "cell_type": "code",
   "source": [
    "assert prod(lst) == X**1024 - 1, \"Произведение lst не равно x^1024 - 1\"\n",
    "print('Произведение lst верно!')"
   ],
   "id": "d21880df13e1a1fa",
   "outputs": [
    {
     "name": "stdout",
     "output_type": "stream",
     "text": [
      "Произведение lst верно!\n"
     ]
    }
   ],
   "execution_count": 11
  },
  {
   "metadata": {},
   "cell_type": "markdown",
   "source": [
    "#### Составление многочленов (в качестве экскурса)\n",
    "\n",
    "Создайте два многочлена: $q(x) = 2x^2 + 1, r(x) = x - 3$."
   ],
   "id": "51a715fd42ae18ad"
  },
  {
   "metadata": {
    "ExecuteTime": {
     "end_time": "2024-11-28T15:07:25.451271Z",
     "start_time": "2024-11-28T15:07:25.440434Z"
    }
   },
   "cell_type": "code",
   "source": [
    "q = 2*X ** 2 + 1\n",
    "r = X - 3"
   ],
   "id": "d39603612c445b3f",
   "outputs": [],
   "execution_count": 12
  },
  {
   "metadata": {},
   "cell_type": "markdown",
   "source": [
    "Это нам дает:\n",
    "$q(r(x)) = 2(x - 3)^2 + 1 = 2x^2 - 12x + 19$"
   ],
   "id": "ae6c662e077c265a"
  },
  {
   "metadata": {
    "ExecuteTime": {
     "end_time": "2024-11-28T15:07:27.648771Z",
     "start_time": "2024-11-28T15:07:27.645824Z"
    }
   },
   "cell_type": "code",
   "source": [
    "cmp = q(r)\n",
    "cmp"
   ],
   "id": "cb00ab030d1c6a96",
   "outputs": [
    {
     "data": {
      "text/plain": [
       "<polynomials.polynomial.Polynomial at 0x10951c200>"
      ],
      "text/latex": "$ 19 - 12x + 2x^{2} $"
     },
     "execution_count": 13,
     "metadata": {},
     "output_type": "execute_result"
    }
   ],
   "execution_count": 13
  },
  {
   "metadata": {},
   "cell_type": "markdown",
   "source": [
    "#### Назад к Полиномиальные ограничения\n",
    "\n",
    "Постройте третье ограничение p2 аналогично построению p0 и p1, используя полиномиальную композицию. Попутно проверьте, что $g^{1020}$ является корнем из числителя, в то время как $g^{1021}$ нет."
   ],
   "id": "119207ba7a3d20a"
  },
  {
   "metadata": {
    "ExecuteTime": {
     "end_time": "2024-11-28T15:07:31.354548Z",
     "start_time": "2024-11-28T15:07:29.040694Z"
    }
   },
   "cell_type": "code",
   "source": [
    "numer2 = f(g**2 * X) - f(g * X)**2 - f**2\n",
    "print(\"Numerator at g^1020 is\", numer2(g**1020))\n",
    "print(\"Numerator at g^1021 is\", numer2(g**1021))\n",
    "denom2 = (X**1024 - 1) / ((X - g**1021) * (X - g**1022) * (X - g**1023))\n",
    "\n",
    "p2 = numer2 / denom2"
   ],
   "id": "c05f526c5faa878d",
   "outputs": [
    {
     "name": "stdout",
     "output_type": "stream",
     "text": [
      "Numerator at g^1020 is 0\n",
      "Numerator at g^1021 is 230576507\n"
     ]
    }
   ],
   "execution_count": 14
  },
  {
   "metadata": {
    "ExecuteTime": {
     "end_time": "2024-11-28T15:07:35.548693Z",
     "start_time": "2024-11-28T15:07:35.542873Z"
    }
   },
   "cell_type": "code",
   "source": [
    "assert p2.degree() == 1023, f'The degree of the third constraint is {p2.degree()} when it should be 1023.'\n",
    "assert p2(31415) == 2090051528\n",
    "print('Успешно!')"
   ],
   "id": "37ea8a95ef07e5ba",
   "outputs": [
    {
     "name": "stdout",
     "output_type": "stream",
     "text": [
      "Успешно!\n"
     ]
    }
   ],
   "execution_count": 15
  },
  {
   "metadata": {
    "ExecuteTime": {
     "end_time": "2024-11-28T15:07:37.524295Z",
     "start_time": "2024-11-28T15:07:37.520490Z"
    }
   },
   "cell_type": "code",
   "source": [
    "print('deg p0 =', p0.degree())\n",
    "print('deg p1 =', p1.degree())\n",
    "print('deg p2 =', p2.degree())"
   ],
   "id": "4459df425fb65c59",
   "outputs": [
    {
     "name": "stdout",
     "output_type": "stream",
     "text": [
      "deg p0 = 1021\n",
      "deg p1 = 1021\n",
      "deg p2 = 1023\n"
     ]
    }
   ],
   "execution_count": 16
  },
  {
   "metadata": {},
   "cell_type": "markdown",
   "source": [
    "#### Шаг 4 - Полином композиции\n",
    "\n",
    "Вспомните, что мы переводим задачу проверки справедливости трех полиномиальных ограничений к проверке того, что каждая из рациональных функций $p_0,p_1,p_2$\n",
    " являются многочленами.\n",
    " \n",
    "Данный протокол использует для этого алгоритм под названием FRI.\n",
    "Для того чтобы доказательство было лаконичным - работа производится всего с одной рациональной функцией. Для этого мы возьмем случайную линейную комбинацию из $p_0,p_1,p_2$ называемую полиномом сравнения (CP):\n",
    "$$CP(x) = a_0 * p_0(x) + a_1 * p_1(x) + a_2 * p_2(x)$$\n",
    "\n",
    "где $a_0, a_1, a_2$ - это элементы случайного поля, полученные от верификатора, или в данном случае - от канала.\n",
    " \n"
   ],
   "id": "60b891d5f2a5d7ab"
  },
  {
   "metadata": {
    "ExecuteTime": {
     "end_time": "2024-11-28T15:07:39.405290Z",
     "start_time": "2024-11-28T15:07:39.403160Z"
    }
   },
   "cell_type": "code",
   "source": [
    "def get_CP(channel):\n",
    "    alpha0 = channel.receive_random_field_element()\n",
    "    alpha1 = channel.receive_random_field_element()\n",
    "    alpha2 = channel.receive_random_field_element()\n",
    "    return alpha0*p0 + alpha1*p1 + alpha2*p2"
   ],
   "id": "d887565f9737832f",
   "outputs": [],
   "execution_count": 17
  },
  {
   "metadata": {
    "ExecuteTime": {
     "end_time": "2024-11-28T15:07:40.867772Z",
     "start_time": "2024-11-28T15:07:40.848527Z"
    }
   },
   "cell_type": "code",
   "source": [
    "test_channel = Channel()\n",
    "CP_test = get_CP(test_channel)\n",
    "assert CP_test.degree() == 1023, f'The degree of cp is {CP_test.degree()} when it should be 1023.'\n",
    "assert CP_test(2439804) == 838767343, f'cp(2439804) = {CP_test(2439804)}, when it should be 838767343'\n",
    "print('Успешно!')"
   ],
   "id": "9934c11a154ccbca",
   "outputs": [
    {
     "name": "stdout",
     "output_type": "stream",
     "text": [
      "Успешно!\n"
     ]
    }
   ],
   "execution_count": 18
  },
  {
   "metadata": {},
   "cell_type": "markdown",
   "source": [
    "#### Задание на полином композиции\n",
    "Наконец, мы оцениваем $cp$ над областью оценки (eval_domain), строим на ее основе дерево Меркла и отправляем его корень по каналу. Это похоже на коммитирование на трассе LDE, как мы делали в конце первой части."
   ],
   "id": "d691204b4666f899"
  },
  {
   "metadata": {
    "ExecuteTime": {
     "end_time": "2024-11-28T15:07:42.470495Z",
     "start_time": "2024-11-28T15:07:42.468487Z"
    }
   },
   "cell_type": "code",
   "source": [
    "def CP_eval(channel):\n",
    "    CP = get_CP(channel)\n",
    "    return [CP(d) for d in eval_domain]"
   ],
   "id": "c0f1912892cf5dda",
   "outputs": [],
   "execution_count": 19
  },
  {
   "metadata": {
    "ExecuteTime": {
     "end_time": "2024-11-28T15:07:44.381583Z",
     "start_time": "2024-11-28T15:07:43.308371Z"
    }
   },
   "cell_type": "code",
   "source": [
    "channel = Channel()\n",
    "CP_merkle = MerkleTree(CP_eval(channel))\n",
    "channel.send(CP_merkle.root)"
   ],
   "id": "429e14a4242e356d",
   "outputs": [],
   "execution_count": 20
  },
  {
   "metadata": {
    "ExecuteTime": {
     "end_time": "2024-11-28T15:07:45.540924Z",
     "start_time": "2024-11-28T15:07:45.537004Z"
    }
   },
   "cell_type": "code",
   "source": [
    "assert CP_merkle.root == 'a8c87ef9764af3fa005a1a2cf3ec8db50e754ccb655be7597ead15ed4a9110f1', 'Merkle tree root is wrong.'\n",
    "print('Успешно!')"
   ],
   "id": "29c4b237ccaaa9ad",
   "outputs": [
    {
     "name": "stdout",
     "output_type": "stream",
     "text": [
      "Успешно!\n"
     ]
    }
   ],
   "execution_count": 21
  }
 ],
 "metadata": {
  "kernelspec": {
   "display_name": "Python 3",
   "language": "python",
   "name": "python3"
  },
  "language_info": {
   "codemirror_mode": {
    "name": "ipython",
    "version": 2
   },
   "file_extension": ".py",
   "mimetype": "text/x-python",
   "name": "python",
   "nbconvert_exporter": "python",
   "pygments_lexer": "ipython2",
   "version": "2.7.6"
  }
 },
 "nbformat": 4,
 "nbformat_minor": 5
}

{
 "cells": [
  {
   "metadata": {},
   "cell_type": "markdown",
   "source": [
    "# Часть 1: Трасса вычислений и Расширение низкой степени\n",
    "\n",
    "### Основа\n",
    "Трасса представлений - это представление процесса вычислений, которые необходимо доказать. Оно содержит последовательность состояний, фиксирующих выполнение программы или алгоритма на каждом шаге.\n",
    "\n",
    "Например, если программа имеет n количество шагов и переменных ($v_1, v_2, ..., v_m$), то Трассу (Trace) можно представить в виде таблицы, где каждая строка соответствует шагам вычислений, а столбцы – переменным (регистрам)\n",
    "\n",
    "Вся трасса представляет собой матрицу $m \\times n$, где $n$ – число шагов вычислений, а $m$ – число переменных/регистров\n",
    "\n",
    "#### Как используется Trace?\n",
    "\n",
    "1) Описание вычислений: \n",
    "    - Каждое состояние вычисления (шаг) описывается через определённый набор переменных.\n",
    "    - Для каждого шага фиксируются значения этих переменных.\n",
    "2) Кодирование как полином:\n",
    "    - Значения трассы преобразуются в функции низкой степени, которые легко проверяются (см. Low-Degree Extension ниже).\n",
    "    - Это позволяет преобразовать сложное вычисление в проверяемую математическую структуру.\n",
    "\n",
    "Для представления элементов поля мы используем класс FieldElement.\n",
    "Вы можете создавать экземпляры FieldElement из целых чисел, а затем складывать, умножать, делить, получать инверсию и так далее. Базовым полем этого класса является $F_{3221225473} = 3 \\cdot 2^{30} + 1$, поэтому все операции выполняются по модулю 3221225473."
   ],
   "id": "8a77807f92f26ee"
  },
  {
   "metadata": {
    "ExecuteTime": {
     "end_time": "2024-11-28T16:38:27.566539Z",
     "start_time": "2024-11-28T16:38:27.556805Z"
    }
   },
   "cell_type": "code",
   "source": [
    "from fields.field import FieldElement\n",
    "FieldElement(3221225472) + FieldElement(10)"
   ],
   "id": "541c318aebedcbd5",
   "outputs": [
    {
     "data": {
      "text/plain": [
       "9"
      ]
     },
     "execution_count": 17,
     "metadata": {},
     "output_type": "execute_result"
    }
   ],
   "execution_count": 17
  },
  {
   "metadata": {},
   "cell_type": "markdown",
   "source": [
    "##### FibonacciSq Trace\n",
    "\n",
    "Для начала построим список a длины 1023, первыми двумя элементами которого будут объекты FieldElement, представляющие 1 и 3141592 соответственно. Следующие 1021 элемент будут последовательностью FibonacciSq, индуцированной этими двумя элементами. a называется следом FibonacciSq, или, когда контекст ясен, следом.\n",
    "Исправьте приведенный ниже код, чтобы заполнить a:"
   ],
   "id": "78a017258c9d1c56"
  },
  {
   "metadata": {
    "ExecuteTime": {
     "end_time": "2024-11-28T16:38:29.281144Z",
     "start_time": "2024-11-28T16:38:29.273286Z"
    }
   },
   "cell_type": "code",
   "source": [
    "a = [FieldElement(1), FieldElement(3141592)]\n",
    "while len(a) < 1023:\n",
    "    a.append(a[-2] * a[-2] + a[-1] * a[-1])"
   ],
   "id": "70abc2f45d087fa2",
   "outputs": [],
   "execution_count": 18
  },
  {
   "metadata": {},
   "cell_type": "markdown",
   "source": [
    "##### Выполним тестирование \n",
    "Запустите следующую ячейку, чтобы проверить правильность заполнения.\n",
    "Обратите внимание, что на самом деле это верификатор, хотя и очень наивный и не очень понятный, поскольку он просматривает последовательность, элемент за элементом, убеждаясь в ее правильности."
   ],
   "id": "5b0d10263a089266"
  },
  {
   "metadata": {
    "ExecuteTime": {
     "end_time": "2024-11-28T16:38:30.806394Z",
     "start_time": "2024-11-28T16:38:30.799175Z"
    }
   },
   "cell_type": "code",
   "source": [
    "assert len(a) == 1023, 'След должен состоять ровно из 1023 элементов.'\n",
    "assert a[0] == FieldElement(1), 'Первый элемент в трассе должен быть элементом единицы.'\n",
    "for i in range(2, 1023):\n",
    "    assert a[i] == a[i - 1] * a[i - 1] + a[i - 2] * a[i - 2], f'Правило рекурсии FibonacciSq не применяется для индекса {i}'\n",
    "assert a[1022] == FieldElement(2338775057), 'Неправильный последний элемент!'\n",
    "print('Успешно!')"
   ],
   "id": "fbc121e30a2defb3",
   "outputs": [
    {
     "name": "stdout",
     "output_type": "stream",
     "text": [
      "Успешно!\n"
     ]
    }
   ],
   "execution_count": 19
  },
  {
   "metadata": {},
   "cell_type": "markdown",
   "source": [
    "#### Low-Degree Extension (Расширение низкой степени)\n",
    "Low-Degree Extension (LDE) — это процесс преобразования значений вычислений (Trace) в полиномы низкой степени. Это ключевой шаг, который делает проверку вычислений математически удобной и позволяет использовать свойства полиномов.\n",
    "\n",
    "Основная идея LDE:\n",
    " - Трасса вычислений (Trace), заданная как конечное множество дискретных значений, интерполируется полиномами низкой степени.\n",
    " - Эти полиномы затем \"расширяются\" на большее множество точек, сохраняя свою низкую степень.\n",
    "\n",
    "Почему это важно?\n",
    " - Полиномы низкой степени легко проверяются на равенство или корректность с использованием малого количества случайных выборок.\n",
    " - Расширение до большего множества точек делает доказательство более защищённым от подделок.\n",
    "\n",
    "Теперь мы хотим представить последовательность как оценку некоторого, пока неизвестного, многочлена $f$ степени 1022 (в силу теоремы Унисолвенса). В качестве области выберем некоторую подгруппу $G \\subseteq F^{\\times}$ размером 1024, по причинам, которые станут понятны позже.\n",
    "\n",
    "##### Найдем группу размером 1024\n",
    "Если мы найдем элемент $g \\in F$ чей (мультипликативный) порядок равен 1024, то \n",
    " сгенерирует такую группу. Класс FieldElement предоставляет статический метод generator(), который возвращает элемент, генерирующий $F^{\\times}$ ($|F^{\\times}|$)"
   ],
   "id": "39dd791d011d6c71"
  },
  {
   "metadata": {
    "ExecuteTime": {
     "end_time": "2024-11-28T16:38:34.144954Z",
     "start_time": "2024-11-28T16:38:34.125459Z"
    }
   },
   "cell_type": "code",
   "source": [
    "g = FieldElement.generator() ** (3 * 2 ** 20)\n",
    "G = [g ** i for i in range(1024)]"
   ],
   "id": "2111b5fcac7920bb",
   "outputs": [],
   "execution_count": 20
  },
  {
   "metadata": {
    "ExecuteTime": {
     "end_time": "2024-11-28T16:38:35.724183Z",
     "start_time": "2024-11-28T16:38:35.717325Z"
    }
   },
   "cell_type": "code",
   "source": [
    "# Проверяет правильность g и G.\n",
    "assert g.is_order(1024), 'Генератор g имеет неправильный порядок.'\n",
    "b = FieldElement(1)\n",
    "for i in range(1023):\n",
    "    assert b == G[i], 'i-е место в G не равно i-й степени g.'\n",
    "    b = b * g\n",
    "    assert b != FieldElement(1), f'g имеет порядок {i + 1}'\n",
    "    \n",
    "if b * g == FieldElement(1):\n",
    "    print('Успешно!')\n",
    "else:\n",
    "    print('g имеет порядок > 1024')"
   ],
   "id": "54be6bb156b0ca1d",
   "outputs": [
    {
     "name": "stdout",
     "output_type": "stream",
     "text": [
      "Успешно!\n"
     ]
    }
   ],
   "execution_count": 21
  },
  {
   "metadata": {},
   "cell_type": "markdown",
   "source": [
    "##### Класс полиномов\n",
    "\n",
    "We provide you with a class called Polynomial. The simplest way to construct a Polynomial is by using the variable $X$, которая представляет собой формальную переменную $x$"
   ],
   "id": "c94537803572fd62"
  },
  {
   "metadata": {
    "ExecuteTime": {
     "end_time": "2024-11-28T16:38:37.698800Z",
     "start_time": "2024-11-28T16:38:37.690176Z"
    }
   },
   "cell_type": "code",
   "source": [
    "from polynomials.polynomial import X\n",
    "# Многочлен 2x^2 + 1.\n",
    "p = 2*X**2 + 1\n",
    "# Оцените p в 2 балла:\n",
    "print(p(2))\n",
    "# Введите имя полинома в последней строке ячейки, чтобы отобразить его.\n",
    "p"
   ],
   "id": "645f2b077b093605",
   "outputs": [
    {
     "name": "stdout",
     "output_type": "stream",
     "text": [
      "9\n"
     ]
    },
    {
     "data": {
      "text/plain": [
       "<polynomials.polynomial.Polynomial at 0x1125410a0>"
      ],
      "text/latex": "$ 1 + 2x^{2} $"
     },
     "execution_count": 22,
     "metadata": {},
     "output_type": "execute_result"
    }
   ],
   "execution_count": 22
  },
  {
   "metadata": {},
   "cell_type": "markdown",
   "source": [
    "##### Интерполирование полинома\n",
    "\n",
    "Наш модуль полинома предоставляет функцию интерполяции Лагранжа, аргументами которой являются:\n",
    "\n",
    "- x_values: x-значения G, для которых известны значения полинома. [Список].\n",
    "- y_values: соответствующие y-значения. [Список]\n",
    "\n",
    "Она возвращает единственный экземпляр многочлена степени < len(x_values), который оценивает y_values[i] по x_values[i] для всех i.\n",
    "\n",
    "Запустите следующую ячейку, чтобы получить помощь по функции interpolate_poly.\n",
    "\n"
   ],
   "id": "a458a343760a36a1"
  },
  {
   "metadata": {
    "ExecuteTime": {
     "end_time": "2024-11-28T16:38:54.545331Z",
     "start_time": "2024-11-28T16:38:48.460885Z"
    }
   },
   "cell_type": "code",
   "source": [
    "from polynomials.polynomial import interpolate_poly\n",
    "# Обратите внимание, что выполнение interpolate_poly может занять до минуты.\n",
    "f = interpolate_poly(G[:-1], a)\n",
    "v = f(2)"
   ],
   "id": "faeaa25e1a8c15f0",
   "outputs": [
    {
     "name": "stderr",
     "output_type": "stream",
     "text": [
      "100%|██████████| 1023/1023 [00:05<00:00, 203.08it/s]\n"
     ]
    }
   ],
   "execution_count": 23
  },
  {
   "metadata": {
    "ExecuteTime": {
     "end_time": "2024-11-28T16:38:58.347660Z",
     "start_time": "2024-11-28T16:38:58.344450Z"
    }
   },
   "cell_type": "code",
   "source": [
    "assert v == FieldElement(1302089273)\n",
    "print('Success!')"
   ],
   "id": "9cb4f835204a3352",
   "outputs": [
    {
     "name": "stdout",
     "output_type": "stream",
     "text": [
      "Success!\n"
     ]
    }
   ],
   "execution_count": 24
  },
  {
   "metadata": {},
   "cell_type": "markdown",
   "source": [
    "##### Оценка на более крупном участке\n",
    "\n",
    "След, рассматриваемый как оценка многочлена $f$ на $G$ теперь можно расширить, оценивая $f$\n",
    " в более широкой области, создавая таким образом код коррекции ошибок Рида-Соломона.\n",
    " \n",
    "##### Cosets\n",
    "\n",
    "Для этого мы должны определить более широкую область, на которой $f$ будут оценены. Мы будем работать с доменом, который в 8 раз больше, чем $G$.\n",
    "Естественный выбор для такой области - взять некоторую группу $H$ размера 8192 (который существует потому, что 8192 делит ($|F^{\\times}|$) и сдвиньте его на генератор $F^{\\times}$,  тем самым получая coset из $H$.\n",
    "\n"
   ],
   "id": "894fd1965a9070e5"
  },
  {
   "metadata": {
    "ExecuteTime": {
     "end_time": "2024-11-28T16:39:00.474016Z",
     "start_time": "2024-11-28T16:39:00.386904Z"
    }
   },
   "cell_type": "code",
   "source": [
    "w = FieldElement.generator()\n",
    "h = w ** ((2 ** 30 * 3) // 8192)\n",
    "H = [h ** i for i in range(8192)]\n",
    "eval_domain = [w * x for x in H]"
   ],
   "id": "c5bd8f5c1a4e1354",
   "outputs": [],
   "execution_count": 25
  },
  {
   "metadata": {
    "ExecuteTime": {
     "end_time": "2024-11-28T16:39:01.729141Z",
     "start_time": "2024-11-28T16:39:01.638074Z"
    }
   },
   "cell_type": "code",
   "source": [
    "from hashlib import sha256\n",
    "assert len(set(eval_domain)) == len(eval_domain)\n",
    "w = FieldElement.generator()\n",
    "w_inv = w.inverse()\n",
    "assert '55fe9505f35b6d77660537f6541d441ec1bd919d03901210384c6aa1da2682ce' == sha256(str(H[1]).encode()).hexdigest(),\\\n",
    "    'Список H неверен. H[1] должно быть h (т. е. генератор H).'\n",
    "for i in range(8192):\n",
    "    assert ((w_inv * eval_domain[1]) ** i) * w == eval_domain[i]\n",
    "print('Успешно!')"
   ],
   "id": "30b74d15696e686f",
   "outputs": [
    {
     "name": "stdout",
     "output_type": "stream",
     "text": [
      "Успешно!\n"
     ]
    }
   ],
   "execution_count": 26
  },
  {
   "metadata": {},
   "cell_type": "markdown",
   "source": [
    "##### Оценка\n",
    "Пора использовать interpolate_poly и Polynomial.poly для оценки по косете. Обратите внимание, что в нашем Python-модуле это реализовано по-настоящему наивно, поэтому интерполяция может занять до минуты.\n",
    "Действительно, интерполяция и оценка полинома трассы - один из самых трудоемких шагов в протоколе STARK, даже при использовании более эффективных методов (например, БПФ)."
   ],
   "id": "866bcb5143a4b1d3"
  },
  {
   "metadata": {
    "ExecuteTime": {
     "end_time": "2024-11-28T16:39:10.610896Z",
     "start_time": "2024-11-28T16:39:03.657696Z"
    }
   },
   "cell_type": "code",
   "source": [
    "f = interpolate_poly(G[:-1], a)\n",
    "f_eval = [f(d) for d in eval_domain]"
   ],
   "id": "29c6e2d3c6fb1147",
   "outputs": [
    {
     "name": "stderr",
     "output_type": "stream",
     "text": [
      "100%|██████████| 1023/1023 [00:04<00:00, 206.83it/s]\n"
     ]
    }
   ],
   "execution_count": 27
  },
  {
   "metadata": {
    "ExecuteTime": {
     "end_time": "2024-11-28T16:39:11.334549Z",
     "start_time": "2024-11-28T16:39:11.327534Z"
    }
   },
   "cell_type": "code",
   "source": [
    "# Проверка на предварительно вычисленный хэш.\n",
    "from hashlib import sha256\n",
    "from channels.channel import serialize\n",
    "assert '1d357f674c27194715d1440f6a166e30855550cb8cb8efeb72827f6a1bf9b5bb' == sha256(serialize(f_eval).encode()).hexdigest()\n",
    "print('Успешно!')"
   ],
   "id": "17e91192c8d1023e",
   "outputs": [
    {
     "name": "stdout",
     "output_type": "stream",
     "text": [
      "Успешно!\n"
     ]
    }
   ],
   "execution_count": 28
  },
  {
   "metadata": {},
   "cell_type": "markdown",
   "source": [
    "##### Обязательства\n",
    "\n",
    "В качестве схемы обязательств мы будем использовать деревья Меркла на основе Sha256. Простая реализация этой схемы доступна вам в классе MerkleTree. Запустите следующую ячейку (в рамках данного руководства она также служит тестом на корректность всех вычислений, проведенных до сих пор):"
   ],
   "id": "fec777b6a7995e1b"
  },
  {
   "metadata": {
    "ExecuteTime": {
     "end_time": "2024-11-28T16:39:13.241867Z",
     "start_time": "2024-11-28T16:39:13.213271Z"
    }
   },
   "cell_type": "code",
   "source": [
    "from merkles.merkle import MerkleTree\n",
    "f_merkle = MerkleTree(f_eval)\n",
    "assert f_merkle.root == '6c266a104eeaceae93c14ad799ce595ec8c2764359d7ad1b4b7c57a4da52be04'\n",
    "print('Успешно!')"
   ],
   "id": "596f515830e50e4",
   "outputs": [
    {
     "name": "stdout",
     "output_type": "stream",
     "text": [
      "Успешно!\n"
     ]
    }
   ],
   "execution_count": 29
  },
  {
   "metadata": {},
   "cell_type": "markdown",
   "source": [
    "##### Channel\n",
    "Теоретически система доказательств STARK представляет собой протокол взаимодействия двух сторон - проверяющего и проверяемого. На практике мы преобразуем этот интерактивный протокол в неинтерактивное доказательство с помощью эвристики Фиата-Шамира. В этом уроке вы будете использовать класс Channel, который реализует это преобразование. Этот канал заменяет верификатор в том смысле, что проверяющий (который вы пишете) будет отправлять данные и получать случайные числа или случайные экземпляры FieldElement.\n",
    "\n",
    "Этот простой фрагмент кода инстанцирует объект канала и отправляет ему корень вашего дерева Меркла. Позже объект канала можно будет вызвать для получения случайных чисел или случайных элементов поля."
   ],
   "id": "d064f002b56ad363"
  },
  {
   "metadata": {
    "ExecuteTime": {
     "end_time": "2024-11-28T16:39:15.281383Z",
     "start_time": "2024-11-28T16:39:15.268099Z"
    }
   },
   "cell_type": "code",
   "source": [
    "from channels.channel import Channel\n",
    "channel = Channel()\n",
    "channel.send(f_merkle.root)"
   ],
   "id": "67f84d0d330a4317",
   "outputs": [],
   "execution_count": 30
  },
  {
   "metadata": {},
   "cell_type": "markdown",
   "source": "И наконец, вы можете получить доказательство на данный момент (т.е. все, что было передано в канале до определенного момента), распечатав член Channel.proof.",
   "id": "d7e5905dc3b59257"
  },
  {
   "metadata": {
    "ExecuteTime": {
     "end_time": "2024-11-28T16:39:17.139260Z",
     "start_time": "2024-11-28T16:39:17.136087Z"
    }
   },
   "cell_type": "code",
   "source": "print(channel.proof)",
   "id": "2c53905c3dd48d88",
   "outputs": [
    {
     "name": "stdout",
     "output_type": "stream",
     "text": [
      "['send:6c266a104eeaceae93c14ad799ce595ec8c2764359d7ad1b4b7c57a4da52be04']\n"
     ]
    }
   ],
   "execution_count": 31
  }
 ],
 "metadata": {
  "kernelspec": {
   "display_name": "Python 3",
   "language": "python",
   "name": "python3"
  },
  "language_info": {
   "codemirror_mode": {
    "name": "ipython",
    "version": 2
   },
   "file_extension": ".py",
   "mimetype": "text/x-python",
   "name": "python",
   "nbconvert_exporter": "python",
   "pygments_lexer": "ipython2",
   "version": "2.7.6"
  }
 },
 "nbformat": 4,
 "nbformat_minor": 5
}
